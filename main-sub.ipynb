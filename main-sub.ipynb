{
 "cells": [
  {
   "cell_type": "code",
   "execution_count": 1,
   "id": "b34b9f10-5074-4fd2-9c80-38a566b2839d",
   "metadata": {
    "execution": {
     "iopub.execute_input": "2025-09-28T01:32:31.816405Z",
     "iopub.status.busy": "2025-09-28T01:32:31.816231Z",
     "iopub.status.idle": "2025-09-28T01:32:32.166651Z",
     "shell.execute_reply": "2025-09-28T01:32:32.166292Z",
     "shell.execute_reply.started": "2025-09-28T01:32:31.816378Z"
    },
    "tags": []
   },
   "outputs": [],
   "source": [
    "import os\n",
    "import time\n",
    "import numpy as np\n",
    "import matplotlib\n",
    "matplotlib.use('Agg')\n",
    "import matplotlib.pyplot as plt\n",
    "import matplotlib.ticker as ticker\n",
    "\n",
    "import cv2\n",
    "from tqdm import tqdm\n",
    "\n",
    "import multiprocessing as mp\n",
    "from joblib import Parallel, delayed\n",
    "\n",
    "from utils import vrrotvec2mat\n",
    "from distance_to_coordinates_triangle_IJ import distance_to_coordinates_triangle_IJ_parallel\n",
    "\n",
    "from utils import save_intermediate_results, load_intermediate_results, generate_savename, plot_triangle"
   ]
  },
  {
   "cell_type": "markdown",
   "id": "4c1e2c17-c6d7-4999-9ae6-10af0388cdd6",
   "metadata": {},
   "source": [
    "# ========== Parameter Initialization =========="
   ]
  },
  {
   "cell_type": "code",
   "execution_count": 2,
   "id": "eff87fa1-d40c-4601-8fff-72702797c066",
   "metadata": {
    "execution": {
     "iopub.execute_input": "2025-09-28T01:32:32.167469Z",
     "iopub.status.busy": "2025-09-28T01:32:32.167325Z",
     "iopub.status.idle": "2025-09-28T01:32:32.169225Z",
     "shell.execute_reply": "2025-09-28T01:32:32.168984Z",
     "shell.execute_reply.started": "2025-09-28T01:32:32.167454Z"
    },
    "tags": []
   },
   "outputs": [],
   "source": [
    "parameter_case_id = \"cos_Run1\""
   ]
  },
  {
   "cell_type": "code",
   "execution_count": 3,
   "id": "aea75156-9b6c-4ec9-b971-60c52f3222a2",
   "metadata": {
    "execution": {
     "iopub.execute_input": "2025-09-28T01:32:32.169587Z",
     "iopub.status.busy": "2025-09-28T01:32:32.169485Z",
     "iopub.status.idle": "2025-09-28T01:32:32.210407Z",
     "shell.execute_reply": "2025-09-28T01:32:32.210076Z",
     "shell.execute_reply.started": "2025-09-28T01:32:32.169579Z"
    },
    "tags": []
   },
   "outputs": [
    {
     "name": "stdout",
     "output_type": "stream",
     "text": [
      "--- Run info ---\n",
      "runLabel : 3VarMassUUD\n",
      "funcType : cos\n",
      "varType  : 3Var-all-Pub-Painleve-test\n",
      "totalT   : 4.2000e+02\n",
      "totalStep: 42000000\n",
      "deltaT   : 1e-05\n",
      "mass: [2.1 2.1 4.7]\n",
      "d0  : [1.1 1.  1. ]\n",
      "aij : [0.2  0.15 0.15]\n",
      "Tij : [0.7 2.1 2.1]\n",
      "Phij: [ 0.          0.78539816 -0.78539816]\n",
      "Least common period: 2.1 [210000]\n",
      "----------------\n"
     ]
    }
   ],
   "source": [
    "# Run Parameters\n",
    "redo = False\n",
    "n_jobs = 16 #12\n",
    "if n_jobs == -1:\n",
    "    n_jobs = mp.cpu_count()\n",
    "verbose = 0 #1 #0\n",
    "long_trajectory = True\n",
    "\n",
    "# Simulation Global Parameters\n",
    "runLabel = '3VarMassUUD'\n",
    "funcType = 'cos' #'sin'\n",
    "varType = '3Var-all-Pub-Painleve-test'\n",
    "transform = 'XYMC'\n",
    "\n",
    "# Trajectory Parameters\n",
    "# ----------------------------------------------------------------------------------\n",
    "if parameter_case_id == \"cos_Run1\":\n",
    "    # Run 202504-Production Run1\n",
    "    mass = np.array([2.1, 2.1, 4.7])\n",
    "    d0 = np.array([1.1, 1.0, 1.0])\n",
    "    aij = np.array([0.20, 0.15, 0.15])\n",
    "    ratio_Tdelta = 100 if long_trajectory else 1000 #100 #1000\n",
    "    Tij = np.array([700*ratio_Tdelta, 2100*ratio_Tdelta, 2100*ratio_Tdelta])\n",
    "    deltaT = (1/ratio_Tdelta)*1e-3\n",
    "    Phiij = np.array([0, np.pi/4, -np.pi/4])\n",
    "# ----------------------------------------------------------------------------------\n",
    "\n",
    "# Time Parameters\n",
    "total_periods = 200 if long_trajectory else 20 #200 #20\n",
    "stepsLeastCommonPeriod = np.lcm.reduce(Tij.astype(int))  # steps of least common period\n",
    "totalT = total_periods * stepsLeastCommonPeriod * deltaT  # total time of trajectory\n",
    "totalStep = int(np.ceil(totalT / deltaT)) # number of steps\n",
    "steps = np.arange(0, totalStep + 1)\n",
    "\n",
    "# --- Print Information ---\n",
    "print(\"--- Run info ---\")\n",
    "print(\"runLabel : {:}\".format(runLabel))\n",
    "print(\"funcType : {:}\".format(funcType))\n",
    "print(\"varType  : {:}\".format(varType))\n",
    "print(\"totalT   : {:7.4e}\".format(totalT))\n",
    "print(\"totalStep: {:d}\".format(totalStep))\n",
    "print(\"deltaT   : {:g}\".format(deltaT))\n",
    "\n",
    "print(\"mass: {}\".format(mass))\n",
    "print(\"d0  : {}\".format(d0))\n",
    "print(\"aij : {}\".format(aij))\n",
    "print(\"Tij : {}\".format(Tij * deltaT))\n",
    "print(\"Phij: {}\".format(Phiij))\n",
    "print(\"Least common period: {:.4g} [{:d}]\".format(deltaT * stepsLeastCommonPeriod, stepsLeastCommonPeriod))\n",
    "print(\"----------------\")"
   ]
  },
  {
   "cell_type": "code",
   "execution_count": 4,
   "id": "9fb6db03-e455-4741-b8a9-6691abebf26c",
   "metadata": {
    "execution": {
     "iopub.execute_input": "2025-09-28T01:32:32.210862Z",
     "iopub.status.busy": "2025-09-28T01:32:32.210762Z",
     "iopub.status.idle": "2025-09-28T01:32:32.214528Z",
     "shell.execute_reply": "2025-09-28T01:32:32.214300Z",
     "shell.execute_reply.started": "2025-09-28T01:32:32.210851Z"
    },
    "tags": []
   },
   "outputs": [
    {
     "data": {
      "text/plain": [
       "(np.float64(2.5995307371676243e+22), np.float64(0.2599530737167624))"
      ]
     },
     "execution_count": 4,
     "metadata": {},
     "output_type": "execute_result"
    }
   ],
   "source": [
    "scale_factor = np.mean((Tij*deltaT)/(2*np.pi))/(1e-23)\n",
    "\n",
    "scale_factor, np.mean((Tij*deltaT)/(2*np.pi))"
   ]
  },
  {
   "cell_type": "code",
   "execution_count": 5,
   "id": "86d5950d-215a-488b-91e3-dcc78f0e7934",
   "metadata": {
    "execution": {
     "iopub.execute_input": "2025-09-28T01:32:32.214906Z",
     "iopub.status.busy": "2025-09-28T01:32:32.214819Z",
     "iopub.status.idle": "2025-09-28T01:32:32.216888Z",
     "shell.execute_reply": "2025-09-28T01:32:32.216650Z",
     "shell.execute_reply.started": "2025-09-28T01:32:32.214898Z"
    },
    "tags": []
   },
   "outputs": [],
   "source": [
    "save_data = {\n",
    "    'runLabel': runLabel,\n",
    "    'funcType': funcType,\n",
    "    'varType': varType,\n",
    "    'transform': transform,\n",
    "    'mass': mass,\n",
    "    'd0': d0,\n",
    "    'aij': aij,\n",
    "    'ratio_Tdelta': ratio_Tdelta,\n",
    "    'Tij': Tij,\n",
    "    'deltaT': deltaT,\n",
    "    'Phiij': Phiij,\n",
    "    'total_periods': total_periods\n",
    "}"
   ]
  },
  {
   "cell_type": "code",
   "execution_count": 6,
   "id": "1dabc3e7-2d78-456b-8e6f-107a04b0ebdd",
   "metadata": {
    "execution": {
     "iopub.execute_input": "2025-09-28T01:32:32.217274Z",
     "iopub.status.busy": "2025-09-28T01:32:32.217184Z",
     "iopub.status.idle": "2025-09-28T01:32:32.221626Z",
     "shell.execute_reply": "2025-09-28T01:32:32.221405Z",
     "shell.execute_reply.started": "2025-09-28T01:32:32.217265Z"
    },
    "tags": []
   },
   "outputs": [
    {
     "data": {
      "text/plain": [
       "('./data',\n",
       " '3VarMassUUD_cos_e8ed382a034d5eb0f2787073dba3803d0387b66f4e1f85c2feb492b768fb4711',\n",
       " True)"
      ]
     },
     "execution_count": 6,
     "metadata": {},
     "output_type": "execute_result"
    }
   ],
   "source": [
    "save_dir = \"./data\"\n",
    "save_name = generate_savename(save_data)\n",
    "save_data_exists = os.path.exists(os.path.join(save_dir, save_name))\n",
    "\n",
    "save_dir, save_name, save_data_exists"
   ]
  },
  {
   "cell_type": "code",
   "execution_count": 7,
   "id": "c3f8efb0-464a-4e7b-9058-aef9a925cf67",
   "metadata": {
    "execution": {
     "iopub.execute_input": "2025-09-28T01:32:32.222530Z",
     "iopub.status.busy": "2025-09-28T01:32:32.222442Z",
     "iopub.status.idle": "2025-09-28T01:32:32.224701Z",
     "shell.execute_reply": "2025-09-28T01:32:32.224480Z",
     "shell.execute_reply.started": "2025-09-28T01:32:32.222522Z"
    },
    "tags": []
   },
   "outputs": [
    {
     "data": {
      "text/plain": [
       "False"
      ]
     },
     "execution_count": 7,
     "metadata": {},
     "output_type": "execute_result"
    }
   ],
   "source": [
    "redo = redo or (not save_data_exists)\n",
    "redo"
   ]
  },
  {
   "cell_type": "code",
   "execution_count": 8,
   "id": "186895be-92f8-4078-9b00-aacba4492ef4",
   "metadata": {
    "execution": {
     "iopub.execute_input": "2025-09-28T01:32:32.225025Z",
     "iopub.status.busy": "2025-09-28T01:32:32.224939Z",
     "iopub.status.idle": "2025-09-28T01:32:51.041405Z",
     "shell.execute_reply": "2025-09-28T01:32:51.041025Z",
     "shell.execute_reply.started": "2025-09-28T01:32:32.225016Z"
    },
    "tags": []
   },
   "outputs": [
    {
     "name": "stdout",
     "output_type": "stream",
     "text": [
      "[Load Data from ./data/3VarMassUUD_cos_e8ed382a034d5eb0f2787073dba3803d0387b66f4e1f85c2feb492b768fb4711]\n",
      "Time Cost: 18.81s\n"
     ]
    }
   ],
   "source": [
    "if not redo:\n",
    "    print(\"[Load Data from {:}]\".format(os.path.join(save_dir, save_name)))\n",
    "    start_time = time.time()\n",
    "    \n",
    "    save_data = load_intermediate_results(os.path.join(save_dir, save_name))\n",
    "    print(\"Time Cost: {:.2f}s\".format(time.time() - start_time))"
   ]
  },
  {
   "cell_type": "code",
   "execution_count": 9,
   "id": "5c6d1376-6de0-408d-91e6-98d8b62f06c1",
   "metadata": {
    "execution": {
     "iopub.execute_input": "2025-09-28T01:32:51.043078Z",
     "iopub.status.busy": "2025-09-28T01:32:51.042981Z",
     "iopub.status.idle": "2025-09-28T01:32:51.045132Z",
     "shell.execute_reply": "2025-09-28T01:32:51.044895Z",
     "shell.execute_reply.started": "2025-09-28T01:32:51.043069Z"
    },
    "tags": []
   },
   "outputs": [
    {
     "name": "stdout",
     "output_type": "stream",
     "text": [
      "dict_keys(['runLabel', 'funcType', 'varType', 'transform', 'mass', 'd0', 'aij', 'ratio_Tdelta', 'Tij', 'deltaT', 'Phiij', 'total_periods', 'dij', 'Theta', 'S', 'R'])\n"
     ]
    }
   ],
   "source": [
    "print(save_data.keys())"
   ]
  },
  {
   "cell_type": "markdown",
   "id": "f76ad78e-9275-4a35-8c3a-8bb0d7cca0ba",
   "metadata": {
    "tags": []
   },
   "source": [
    "# ========== Generate Distance Matrix `dij` =========="
   ]
  },
  {
   "cell_type": "code",
   "execution_count": 10,
   "id": "efa7a9e5-7cc6-463a-aecb-776ae6916fa1",
   "metadata": {
    "execution": {
     "iopub.execute_input": "2025-09-28T01:32:51.045482Z",
     "iopub.status.busy": "2025-09-28T01:32:51.045387Z",
     "iopub.status.idle": "2025-09-28T01:32:51.048522Z",
     "shell.execute_reply": "2025-09-28T01:32:51.048265Z",
     "shell.execute_reply.started": "2025-09-28T01:32:51.045474Z"
    },
    "tags": []
   },
   "outputs": [
    {
     "name": "stdout",
     "output_type": "stream",
     "text": [
      "dij is already in save_data!\n",
      "(3, 42000001)\n",
      "Memory of dij     :   961.304 MB\n"
     ]
    }
   ],
   "source": [
    "if redo or ('dij' not in save_data.keys()):\n",
    "    # dinstance matrix: `dij`\n",
    "    edgeN = 3\n",
    "    dij = np.zeros((edgeN, len(steps)))\n",
    "    for i in tqdm(range(edgeN), desc=\"Generating dij\", unit=\"step\"):\n",
    "        if funcType == \"sin\":\n",
    "            dij[i, :] = d0[i] + aij[i] * np.sin(2 * np.pi * steps / Tij[i] + Phiij[i])\n",
    "        if funcType == \"cos\":\n",
    "            dij[i, :] = d0[i] + aij[i] * np.cos(2 * np.pi * steps / Tij[i] + Phiij[i])\n",
    "else:\n",
    "    print('dij is already in save_data!')\n",
    "    dij = save_data['dij']\n",
    "    print(dij.shape)\n",
    "\n",
    "print(\"Memory of dij     : {:9.3f} MB\".format(dij.nbytes/(1024**2)))"
   ]
  },
  {
   "cell_type": "markdown",
   "id": "376f14cf-b065-417c-ac49-7f19beb6e7ea",
   "metadata": {},
   "source": [
    "# ========== Main =========="
   ]
  },
  {
   "cell_type": "markdown",
   "id": "f9c934e4-0eaa-408c-b08d-73d46c145f11",
   "metadata": {},
   "source": [
    "## --- Convert `dij` to `S` ---"
   ]
  },
  {
   "cell_type": "code",
   "execution_count": 11,
   "id": "4f189c1e-d1ba-4b02-80af-d073cd8bc6fd",
   "metadata": {
    "execution": {
     "iopub.execute_input": "2025-09-28T01:32:51.048918Z",
     "iopub.status.busy": "2025-09-28T01:32:51.048827Z",
     "iopub.status.idle": "2025-09-28T01:32:51.052179Z",
     "shell.execute_reply": "2025-09-28T01:32:51.051946Z",
     "shell.execute_reply.started": "2025-09-28T01:32:51.048905Z"
    },
    "tags": []
   },
   "outputs": [
    {
     "name": "stdout",
     "output_type": "stream",
     "text": [
      "S is already in save_data!\n",
      "(3, 3, 42000001)\n",
      "Memory of S       :  2883.911 MB\n"
     ]
    }
   ],
   "source": [
    "if redo or ('S' not in save_data.keys()):\n",
    "    print(\"[Step: dij -> S]\")\n",
    "    start_time = time.time()\n",
    "    S, ResDiff, _, _ = distance_to_coordinates_triangle_IJ_parallel(dij, transform, mass, n_jobs=n_jobs, verbose=verbose)\n",
    "    print(\"Time Cost: {:.2f}s\".format(time.time() - start_time))\n",
    "    print(\"ResDiff: {:.2e} [{:.3e}]\".format(np.mean(ResDiff), np.std(ResDiff)))\n",
    "else:\n",
    "    print('S is already in save_data!')\n",
    "    S = save_data['S']\n",
    "    print(S.shape)\n",
    "\n",
    "print(\"Memory of S       : {:9.3f} MB\".format(S.nbytes/(1024**2)))"
   ]
  },
  {
   "cell_type": "markdown",
   "id": "723214f3-4836-4741-8d44-f52c640fc81a",
   "metadata": {},
   "source": [
    "## --- Calculate `Sdot` ---"
   ]
  },
  {
   "cell_type": "code",
   "execution_count": 12,
   "id": "bdcc8af1-8ca9-46ae-8356-9cfa3c4df862",
   "metadata": {
    "execution": {
     "iopub.execute_input": "2025-09-28T01:32:51.052523Z",
     "iopub.status.busy": "2025-09-28T01:32:51.052425Z",
     "iopub.status.idle": "2025-09-28T01:32:52.386246Z",
     "shell.execute_reply": "2025-09-28T01:32:52.385912Z",
     "shell.execute_reply.started": "2025-09-28T01:32:51.052515Z"
    },
    "tags": []
   },
   "outputs": [
    {
     "name": "stdout",
     "output_type": "stream",
     "text": [
      "[Step: S -> Sdot]\n",
      "Time Cost: 1.33s\n",
      "Memory of Sdot    :  2883.911 MB\n"
     ]
    }
   ],
   "source": [
    "if redo or ('Sdot' not in save_data.keys()):\n",
    "    print(\"[Step: S -> Sdot]\")\n",
    "    start_time = time.time()\n",
    "    Sdot = np.full_like(S, np.nan)\n",
    "    Sdot[:,:,:-1] = (S[:,:,1:] - S[:,:,:-1])/deltaT\n",
    "    \n",
    "    print(\"Time Cost: {:.2f}s\".format(time.time() - start_time))\n",
    "else:\n",
    "    print('Sdot is already in save_data!')\n",
    "    Sdot = save_data['Theta']\n",
    "    print(Sdot.shape)\n",
    "\n",
    "print(\"Memory of Sdot    : {:9.3f} MB\".format(Sdot.nbytes/(1024**2)))"
   ]
  },
  {
   "cell_type": "markdown",
   "id": "5847a0ce-8062-4ff5-94d2-0c80212dd02a",
   "metadata": {},
   "source": [
    "## --- Calculate `Thetadot` ---"
   ]
  },
  {
   "cell_type": "code",
   "execution_count": 13,
   "id": "fd67a7be-5dbf-43d0-b452-90f868803b9c",
   "metadata": {
    "execution": {
     "iopub.execute_input": "2025-09-28T01:32:52.386718Z",
     "iopub.status.busy": "2025-09-28T01:32:52.386621Z",
     "iopub.status.idle": "2025-09-28T01:36:01.403407Z",
     "shell.execute_reply": "2025-09-28T01:36:01.402885Z",
     "shell.execute_reply.started": "2025-09-28T01:32:52.386709Z"
    },
    "tags": []
   },
   "outputs": [
    {
     "name": "stdout",
     "output_type": "stream",
     "text": [
      "[Step: (S,Sdot) -> Thetadot]\n",
      "Time Cost: 189.01s\n",
      "Memory of Thetadot:   320.435 MB\n"
     ]
    }
   ],
   "source": [
    "if redo or ('Thetadot' not in save_data.keys()):\n",
    "    print(\"[Step: (S,Sdot) -> Thetadot]\")\n",
    "    start_time = time.time()\n",
    "    Thetadot = np.zeros(S.shape[2])\n",
    "\n",
    "    def compute_Thetadot(t):\n",
    "        numerator = np.sum(mass * (S[:, 1, t] * Sdot[:, 0, t] - S[:, 0, t] * Sdot[:, 1, t]))\n",
    "        denominator = np.sum(mass * (S[:, 0, t]**2 + S[:, 1, t]**2))\n",
    "        return numerator / denominator if denominator != 0 else 0\n",
    "    \n",
    "    with Parallel(n_jobs=n_jobs,verbose=verbose) as parallel:\n",
    "        Thetadot = parallel(delayed(compute_Thetadot)(t) for t in range(S.shape[2]))\n",
    "        Thetadot = np.array(Thetadot)\n",
    "    \n",
    "    print(\"Time Cost: {:.2f}s\".format(time.time() - start_time))\n",
    "else:\n",
    "    print('Thetadot is already in save_data!')\n",
    "    Thetadot = save_data['Thetadot']\n",
    "    print(Thetadot.shape)\n",
    "\n",
    "print(\"Memory of Thetadot: {:9.3f} MB\".format(Thetadot.nbytes/(1024**2)))"
   ]
  },
  {
   "cell_type": "markdown",
   "id": "53067be4-06e1-4cc4-af3d-ea9957ceca8a",
   "metadata": {},
   "source": [
    "## --- Integrate `Theta` ---"
   ]
  },
  {
   "cell_type": "code",
   "execution_count": 14,
   "id": "c57f1053-0850-4022-ae6f-b1d903d2a3e4",
   "metadata": {
    "execution": {
     "iopub.execute_input": "2025-09-28T01:36:01.404133Z",
     "iopub.status.busy": "2025-09-28T01:36:01.404022Z",
     "iopub.status.idle": "2025-09-28T01:36:01.407836Z",
     "shell.execute_reply": "2025-09-28T01:36:01.407597Z",
     "shell.execute_reply.started": "2025-09-28T01:36:01.404122Z"
    },
    "tags": []
   },
   "outputs": [
    {
     "name": "stdout",
     "output_type": "stream",
     "text": [
      "Theta is already in save_data!\n",
      "(42000001,)\n",
      "Memory of Theta   :   320.435 MB\n"
     ]
    }
   ],
   "source": [
    "if redo or ('Theta' not in save_data.keys()):\n",
    "    print(\"[Step: Thetadot -> Theta]\")\n",
    "    start_time = time.time()\n",
    "    Theta = np.zeros_like(Thetadot)\n",
    "\n",
    "    for t in tqdm(range(1, len(Theta)), desc=\"Calculating Theta\", unit=\"step\"):\n",
    "        Theta[t] = Theta[t-1] + Thetadot[t-1] * deltaT\n",
    "\n",
    "    print(\"Time Cost: {:.2f}s\".format(time.time() - start_time))\n",
    "else:\n",
    "    print('Theta is already in save_data!')\n",
    "    Theta = save_data['Theta']\n",
    "    print(Theta.shape)\n",
    "\n",
    "print(\"Memory of Theta   : {:9.3f} MB\".format(Theta.nbytes/(1024**2)))"
   ]
  },
  {
   "cell_type": "markdown",
   "id": "07fefe8f-ba54-4153-b86c-337f3f73860f",
   "metadata": {},
   "source": [
    "## --- Rotate to `R` ---"
   ]
  },
  {
   "cell_type": "code",
   "execution_count": 15,
   "id": "5609f841-e1b9-43de-af15-54d89a5fb74e",
   "metadata": {
    "execution": {
     "iopub.execute_input": "2025-09-28T01:36:01.408351Z",
     "iopub.status.busy": "2025-09-28T01:36:01.408176Z",
     "iopub.status.idle": "2025-09-28T01:36:01.412696Z",
     "shell.execute_reply": "2025-09-28T01:36:01.412361Z",
     "shell.execute_reply.started": "2025-09-28T01:36:01.408340Z"
    },
    "tags": []
   },
   "outputs": [
    {
     "name": "stdout",
     "output_type": "stream",
     "text": [
      "R is already in save_data!\n",
      "(3, 3, 42000001)\n",
      "Memory of R       :  2883.911 MB\n"
     ]
    }
   ],
   "source": [
    "if redo or ('R' not in save_data.keys()):\n",
    "    print(\"[Step: (S,Theta) -> R]\")\n",
    "    start_time = time.time()\n",
    "    R = np.full_like(S, np.nan)\n",
    "\n",
    "    def compute_rotation(t):\n",
    "        rotvec = np.array([0, 0, 1, Theta[t]])\n",
    "        rotmat = vrrotvec2mat(rotvec)\n",
    "        return S[:, :, t] @ rotmat.T\n",
    "\n",
    "    with Parallel(n_jobs=n_jobs,verbose=verbose,return_as=\"generator\") as parallel:\n",
    "        results = parallel(delayed(compute_rotation)(t) for t in range(S.shape[2]))\n",
    "        with tqdm(total=S.shape[2], desc=\"Calculating R\", unit=\"step\") as pbar:\n",
    "            for t, result in enumerate(results):\n",
    "                R[:, :, t] = result\n",
    "                pbar.update(1)\n",
    "\n",
    "    print(\"Time Cost: {:.2f}s\".format(time.time() - start_time))\n",
    "else:\n",
    "    print('R is already in save_data!')\n",
    "    R = save_data['R']\n",
    "    print(R.shape)\n",
    "\n",
    "print(\"Memory of R       : {:9.3f} MB\".format(R.nbytes/(1024**2)))"
   ]
  },
  {
   "cell_type": "markdown",
   "id": "4707ca0c-2d75-4fe2-b300-6713925ca67d",
   "metadata": {},
   "source": [
    "# ========== Save Results =========="
   ]
  },
  {
   "cell_type": "code",
   "execution_count": 16,
   "id": "d072c60a-84ea-4d8b-8b4d-c43e6c9cb714",
   "metadata": {
    "execution": {
     "iopub.execute_input": "2025-09-28T01:36:01.413213Z",
     "iopub.status.busy": "2025-09-28T01:36:01.413126Z",
     "iopub.status.idle": "2025-09-28T01:36:01.416640Z",
     "shell.execute_reply": "2025-09-28T01:36:01.416393Z",
     "shell.execute_reply.started": "2025-09-28T01:36:01.413205Z"
    },
    "tags": []
   },
   "outputs": [
    {
     "name": "stdout",
     "output_type": "stream",
     "text": [
      "All variables exist in save_data!\n"
     ]
    }
   ],
   "source": [
    "if redo or any([v not in save_data for v in ['dij', 'S', 'R', 'Theta']]):\n",
    "    save_data.update({\n",
    "        'dij': dij, # distance matrix\n",
    "        'Theta': Theta, # angle\n",
    "        'S': S, # coordinates in shape space\n",
    "        'R': R, # coordinates in real space\n",
    "    })\n",
    "    \n",
    "    save_intermediate_results(save_data, save_name=save_name, save_dir=save_dir)\n",
    "else:\n",
    "    print(\"All variables exist in save_data!\")"
   ]
  },
  {
   "cell_type": "code",
   "execution_count": 17,
   "id": "9db014c5-36a0-4f5b-aba5-27cc3652afc6",
   "metadata": {
    "execution": {
     "iopub.execute_input": "2025-09-28T01:36:01.417016Z",
     "iopub.status.busy": "2025-09-28T01:36:01.416930Z",
     "iopub.status.idle": "2025-09-28T01:36:01.420150Z",
     "shell.execute_reply": "2025-09-28T01:36:01.419903Z",
     "shell.execute_reply.started": "2025-09-28T01:36:01.417008Z"
    },
    "tags": []
   },
   "outputs": [
    {
     "name": "stdout",
     "output_type": "stream",
     "text": [
      "Memory of dij     :   961.304 MB (3, 42000001)\n",
      "Memory of Theta   :   320.435 MB (42000001,)\n",
      "Memory of Thetadot:   320.435 MB (42000001,)\n",
      "Memory of S       :  2883.911 MB (3, 3, 42000001)\n",
      "Memory of Sdot    :  2883.911 MB (3, 3, 42000001)\n",
      "Memory of R       :  2883.911 MB (3, 3, 42000001)\n"
     ]
    }
   ],
   "source": [
    "print(\"Memory of dij     : {:9.3f} MB {:}\".format(dij.nbytes/(1024**2), dij.shape))\n",
    "print(\"Memory of Theta   : {:9.3f} MB {:}\".format(Theta.nbytes/(1024**2), Theta.shape))\n",
    "print(\"Memory of Thetadot: {:9.3f} MB {:}\".format(Thetadot.nbytes/(1024**2), Thetadot.shape))\n",
    "print(\"Memory of S       : {:9.3f} MB {:}\".format(S.nbytes/(1024**2), S.shape))\n",
    "print(\"Memory of Sdot    : {:9.3f} MB {:}\".format(Sdot.nbytes/(1024**2), Sdot.shape))\n",
    "print(\"Memory of R       : {:9.3f} MB {:}\".format(R.nbytes/(1024**2), R.shape))"
   ]
  },
  {
   "cell_type": "markdown",
   "id": "4137374a-9313-4b34-864c-9d17a7339895",
   "metadata": {},
   "source": [
    "# ========== Print Results =========="
   ]
  },
  {
   "cell_type": "code",
   "execution_count": 18,
   "id": "d783d329-dd2e-4513-8061-21424a1132f2",
   "metadata": {
    "execution": {
     "iopub.execute_input": "2025-09-28T01:36:01.420532Z",
     "iopub.status.busy": "2025-09-28T01:36:01.420445Z",
     "iopub.status.idle": "2025-09-28T01:36:01.425532Z",
     "shell.execute_reply": "2025-09-28T01:36:01.425274Z",
     "shell.execute_reply.started": "2025-09-28T01:36:01.420524Z"
    },
    "tags": []
   },
   "outputs": [
    {
     "name": "stdout",
     "output_type": "stream",
     "text": [
      "----------------\n",
      "DeltaTheta = -10.72389 rad\n",
      "nPeriod = 200\n",
      "DeltaTheta/nPeriod = -0.0536194517426 rad/period\n",
      "----------------\n"
     ]
    }
   ],
   "source": [
    "print(\"----------------\")\n",
    "print(\"DeltaTheta = {:<.8g} rad\".format(Theta[-1]-Theta[0]))\n",
    "\n",
    "nPeriod = totalT/(stepsLeastCommonPeriod*deltaT)\n",
    "print(\"nPeriod = {:<.8g}\".format(nPeriod))\n",
    "if np.abs(nPeriod - np.round(nPeriod)) < 1e-12:\n",
    "    print(\"DeltaTheta/nPeriod = {:<.12g} rad/period\".format((Theta[-1]-Theta[0])/nPeriod))\n",
    "print(\"----------------\")"
   ]
  },
  {
   "cell_type": "code",
   "execution_count": null,
   "id": "9421c069-207b-4ab5-908f-c4394d448009",
   "metadata": {},
   "outputs": [],
   "source": []
  },
  {
   "cell_type": "markdown",
   "id": "3cf7ebdb-6514-4b7e-84eb-d2ed129a863e",
   "metadata": {},
   "source": [
    "# ========== Visualize Results =========="
   ]
  },
  {
   "cell_type": "code",
   "execution_count": 19,
   "id": "6c4e39cc-294c-4cb3-b4a2-33b77d740f5a",
   "metadata": {
    "execution": {
     "iopub.execute_input": "2025-09-28T01:36:01.425994Z",
     "iopub.status.busy": "2025-09-28T01:36:01.425907Z",
     "iopub.status.idle": "2025-09-28T01:36:01.429821Z",
     "shell.execute_reply": "2025-09-28T01:36:01.429555Z",
     "shell.execute_reply.started": "2025-09-28T01:36:01.425986Z"
    },
    "tags": []
   },
   "outputs": [],
   "source": [
    "figure_dir = os.path.join(\".\", \"figures\", save_name)\n",
    "os.makedirs(figure_dir, exist_ok=True)"
   ]
  },
  {
   "cell_type": "code",
   "execution_count": 20,
   "id": "65ed444e-ffdf-43a4-8bec-cbf5b8fbe1f5",
   "metadata": {
    "execution": {
     "iopub.execute_input": "2025-09-28T01:36:01.430280Z",
     "iopub.status.busy": "2025-09-28T01:36:01.430123Z",
     "iopub.status.idle": "2025-09-28T01:36:01.432994Z",
     "shell.execute_reply": "2025-09-28T01:36:01.432752Z",
     "shell.execute_reply.started": "2025-09-28T01:36:01.430271Z"
    },
    "tags": []
   },
   "outputs": [],
   "source": [
    "plt.rc('text', usetex=False)\n",
    "plt.rcParams.update({\n",
    "    'font.size': 14,\n",
    "    'axes.titlesize': 18,\n",
    "    'axes.labelsize': 16,\n",
    "    'xtick.labelsize': 14,\n",
    "    'ytick.labelsize': 14,\n",
    "    'axes.linewidth': 1.5,\n",
    "    'lines.linewidth': 2,\n",
    "    'legend.fontsize': 12\n",
    "})"
   ]
  },
  {
   "cell_type": "code",
   "execution_count": 21,
   "id": "bcc3dbb2-0b37-4b37-95f0-9f20d2b3df48",
   "metadata": {
    "execution": {
     "iopub.execute_input": "2025-09-28T01:36:01.433401Z",
     "iopub.status.busy": "2025-09-28T01:36:01.433307Z",
     "iopub.status.idle": "2025-09-28T01:36:01.437391Z",
     "shell.execute_reply": "2025-09-28T01:36:01.437157Z",
     "shell.execute_reply.started": "2025-09-28T01:36:01.433386Z"
    },
    "tags": []
   },
   "outputs": [],
   "source": [
    "def plot_period_vlines(ax, \n",
    "                       x_values,\n",
    "                       y_values=None,\n",
    "                       color='k', alpha=0.5,\n",
    "                       linestyle='--', linewidth=1.5,\n",
    "                       marker='o', markersize=8, markerfacecolor='k', \n",
    "                       markerlinestyle='--', markerlinewidth=2, markerlinecolor='k',\n",
    "                       show_vline=True, show_markline=True):\n",
    "    if y_values is not None:\n",
    "        x_period = []\n",
    "        y_period = []\n",
    "    for i_period in range(total_periods+1):\n",
    "        x_vline = x_values[0] + i_period*stepsLeastCommonPeriod*deltaT\n",
    "        if x_vline <= x_values[-1]:\n",
    "            if show_vline:\n",
    "                ax.axvline(x_vline, color=color, linestyle=linestyle, linewidth=linewidth, alpha=alpha)\n",
    "            #\n",
    "            if y_values is not None:\n",
    "                x_period.append((steps[0]+i_period*stepsLeastCommonPeriod)*deltaT)\n",
    "                y_period.append(y_values[steps[0]+i_period*stepsLeastCommonPeriod])\n",
    "        else:\n",
    "            break\n",
    "    if y_values is not None and show_markline:\n",
    "        ax.plot(x_period, y_period, markerlinestyle, \n",
    "                linewidth=markerlinewidth, color=markerlinecolor,\n",
    "                marker=marker, markersize=markersize, markerfacecolor=markerfacecolor)"
   ]
  },
  {
   "cell_type": "markdown",
   "id": "d73caff4-8c6d-4e72-b416-d8e6d440be8f",
   "metadata": {},
   "source": [
    "## Visualizations-1"
   ]
  },
  {
   "cell_type": "code",
   "execution_count": 22,
   "id": "de7a1c1a-25bb-4dae-b8bc-22b6cd0c1680",
   "metadata": {
    "execution": {
     "iopub.execute_input": "2025-09-28T01:36:01.439337Z",
     "iopub.status.busy": "2025-09-28T01:36:01.439243Z",
     "iopub.status.idle": "2025-09-28T01:36:01.477161Z",
     "shell.execute_reply": "2025-09-28T01:36:01.476784Z",
     "shell.execute_reply.started": "2025-09-28T01:36:01.439329Z"
    },
    "tags": []
   },
   "outputs": [
    {
     "data": {
      "text/plain": [
       "(range(0, 42000001, 100),\n",
       " (420001,),\n",
       " array([       0,      100,      200, ..., 41999800, 41999900, 42000000],\n",
       "       shape=(420001,)))"
      ]
     },
     "execution_count": 22,
     "metadata": {},
     "output_type": "execute_result"
    }
   ],
   "source": [
    "index_plot = range(0,steps.shape[-1],100)\n",
    "\n",
    "index_plot, steps[index_plot].shape, steps[index_plot]"
   ]
  },
  {
   "cell_type": "markdown",
   "id": "70760d54-3761-4592-ae08-d1f4743c008e",
   "metadata": {},
   "source": [
    "### **Figures 1 a)**: Trajectories"
   ]
  },
  {
   "cell_type": "code",
   "execution_count": 23,
   "id": "b7c2add1-8bb6-4e56-ade3-80fae6a8349c",
   "metadata": {
    "execution": {
     "iopub.execute_input": "2025-09-28T01:36:01.477750Z",
     "iopub.status.busy": "2025-09-28T01:36:01.477557Z",
     "iopub.status.idle": "2025-09-28T01:36:01.485068Z",
     "shell.execute_reply": "2025-09-28T01:36:01.484802Z",
     "shell.execute_reply.started": "2025-09-28T01:36:01.477741Z"
    },
    "tags": []
   },
   "outputs": [],
   "source": [
    "def plot_trajectories(figure_dir, index_plot=None,\n",
    "                      figure_name='trajectories.png', figsize=(20,10), dpi=150, \n",
    "                      show_ref_line=True, axis_lim=[0.9,0.9], axis_tick_interval=[0.3,0.3],\n",
    "                      linestyle='--', linewidth=1.5, \n",
    "                      show_marker=False, markersize=8, markerfacecolor=None, markeredgecolor='k',\n",
    "                      show_text=True, text_prefix=\"P\", text_fontsize=20, text_color='', text_offset=[[0, 0],[0,0]],\n",
    "                      show_edge=True, edge_offset=0.01):\n",
    "    fig = plt.figure(figsize=figsize)\n",
    "    \n",
    "    colors = [[0, 100/255, 0], [1, 0, 0], [0, 0, 1]]  # RGB颜色\n",
    "    \n",
    "    x_lim = np.array([-1,1])*axis_lim[0]\n",
    "    x_ticks_pos = np.arange(int(np.ceil(x_lim[0]/axis_tick_interval[0])), int(np.floor(x_lim[1]/axis_tick_interval[0]))+1)*axis_tick_interval[0]\n",
    "    y_lim = np.array([-1,1])*axis_lim[1]\n",
    "    y_ticks_pos = np.arange(int(np.ceil(y_lim[0]/axis_tick_interval[1])), int(np.floor(y_lim[1]/axis_tick_interval[1]))+1)*axis_tick_interval[1]\n",
    "    \n",
    "    if index_plot is None:\n",
    "        index_plot = range(0, steps.shape[-1])\n",
    "    \n",
    "    # Shape space\n",
    "    ax1 = fig.add_subplot(121)\n",
    "    # \n",
    "    if show_ref_line:\n",
    "        ax1.axhline(0, color='k', linestyle='--', linewidth=1.5)\n",
    "        ax1.axvline(0, color='k', linestyle='--', linewidth=1.5)\n",
    "    for i in range(3):\n",
    "        ax1.plot(S[i,0,index_plot], S[i,1,index_plot], color=colors[i], linewidth=2)\n",
    "    plot_triangle(S[:,:,index_plot[-1]], ax1, 'k', 'Shape',\n",
    "                  linestyle=linestyle, linewidth=linewidth,\n",
    "                  show_marker=show_marker, markersize=markersize, markerfacecolor=markerfacecolor, markeredgecolor=markeredgecolor,\n",
    "                  show_text=show_text, text_prefix=text_prefix, text_fontsize=text_fontsize, text_color=text_color, text_offset=text_offset[0],\n",
    "                  show_edge=show_edge, edge_offset=edge_offset)\n",
    "    ax1.set_title('Reference Triangle')\n",
    "    ax1.grid(False)\n",
    "    ax1.set_xlim(x_lim)\n",
    "    ax1.set_ylim(y_lim)\n",
    "    ax1.set_xticks(x_ticks_pos)\n",
    "    ax1.set_yticks(y_ticks_pos)\n",
    "    ax1.set_aspect('equal', 'box')\n",
    "    \n",
    "    # Real Space\n",
    "    ax2 = fig.add_subplot(122)\n",
    "    #\n",
    "    if show_ref_line:\n",
    "        ax2.axhline(0, color='k', linestyle='--', linewidth=1.5)\n",
    "        ax2.axvline(0, color='k', linestyle='--', linewidth=1.5)\n",
    "    for i in range(3):\n",
    "        ax2.plot(R[i,0,index_plot], R[i,1,index_plot], color=colors[i], linewidth=2)\n",
    "    plot_triangle(R[:,:,index_plot[-1]], ax2, 'k', 'Real',\n",
    "                  linestyle=linestyle, linewidth=linewidth,\n",
    "                  show_marker=show_marker, markersize=markersize, markerfacecolor=markerfacecolor, markeredgecolor=markeredgecolor,\n",
    "                  show_text=show_text, text_prefix=text_prefix, text_fontsize=text_fontsize, text_color=text_color, text_offset=text_offset[1],\n",
    "                  show_edge=show_edge, edge_offset=edge_offset)\n",
    "    ax2.set_title('Physical Triangle')\n",
    "    ax2.grid(False)\n",
    "    ax2.set_xlim(x_lim)\n",
    "    ax2.set_ylim(y_lim)\n",
    "    ax2.set_xticks(x_ticks_pos)\n",
    "    ax2.set_yticks(y_ticks_pos)\n",
    "    ax2.set_aspect('equal', 'box')\n",
    "\n",
    "    plt.tight_layout()\n",
    "    plt.savefig(os.path.join(figure_dir,figure_name), dpi=dpi)\n",
    "    plt.close()"
   ]
  },
  {
   "cell_type": "code",
   "execution_count": 24,
   "id": "c2ae2390-1d40-4205-b78f-a86a52951e79",
   "metadata": {
    "execution": {
     "iopub.execute_input": "2025-09-28T01:36:01.485473Z",
     "iopub.status.busy": "2025-09-28T01:36:01.485372Z",
     "iopub.status.idle": "2025-09-28T01:36:01.857787Z",
     "shell.execute_reply": "2025-09-28T01:36:01.857414Z",
     "shell.execute_reply.started": "2025-09-28T01:36:01.485465Z"
    },
    "tags": []
   },
   "outputs": [],
   "source": [
    "plot_trajectories(figure_dir, index_plot=range(0,70*stepsLeastCommonPeriod+1,100), \n",
    "                  figsize=(10,5), figure_name='trajectories.png', show_ref_line=True,\n",
    "                  linestyle='-', linewidth=3,\n",
    "                  show_marker=True, markersize=15, markerfacecolor=[[0, 100/255, 0], [1, 0, 0], [0, 0, 1]], markeredgecolor='k',\n",
    "                  show_edge=False, text_prefix=\"V\", text_color='k', text_offset=[[[-0.08,0.04],[-0.20,-0.01],[-0.05,-0.2]],[[-0.06,0.04],[-0.24,-0.1],[0.017,-0.15]]])"
   ]
  },
  {
   "cell_type": "markdown",
   "id": "a31d75a2-9875-4fc4-99f5-0de00b9d16b8",
   "metadata": {},
   "source": [
    "## Visualization-2"
   ]
  },
  {
   "cell_type": "markdown",
   "id": "302d7c03-8a56-47e3-9994-7a7393d6c554",
   "metadata": {},
   "source": [
    "### Preparation"
   ]
  },
  {
   "cell_type": "code",
   "execution_count": 25,
   "id": "02b9cc3d-8865-477c-a281-cf9de25f4895",
   "metadata": {
    "execution": {
     "iopub.execute_input": "2025-09-28T01:36:01.858300Z",
     "iopub.status.busy": "2025-09-28T01:36:01.858151Z",
     "iopub.status.idle": "2025-09-28T01:36:01.941658Z",
     "shell.execute_reply": "2025-09-28T01:36:01.941316Z",
     "shell.execute_reply.started": "2025-09-28T01:36:01.858290Z"
    },
    "tags": []
   },
   "outputs": [
    {
     "data": {
      "text/plain": [
       "(range(0, 1050001),\n",
       " (1050001,),\n",
       " array([      0,       1,       2, ..., 1049998, 1049999, 1050000],\n",
       "       shape=(1050001,)))"
      ]
     },
     "execution_count": 25,
     "metadata": {},
     "output_type": "execute_result"
    }
   ],
   "source": [
    "index_plot = range(0,5*stepsLeastCommonPeriod+1,1) if long_trajectory else index_plot\n",
    "\n",
    "index_plot, steps[index_plot].shape, steps[index_plot]"
   ]
  },
  {
   "cell_type": "markdown",
   "id": "0ad86b2a-7c03-4447-9b1c-d4155a235e0c",
   "metadata": {},
   "source": [
    "### Velocities"
   ]
  },
  {
   "cell_type": "markdown",
   "id": "58ed5c6e-6d25-4f54-9fbb-9020dc4e9207",
   "metadata": {},
   "source": [
    "#### Time Derivatives of S"
   ]
  },
  {
   "cell_type": "code",
   "execution_count": 26,
   "id": "65226b07-4b74-46d6-be44-7e5b1dad2bcc",
   "metadata": {
    "execution": {
     "iopub.execute_input": "2025-09-28T01:36:01.942122Z",
     "iopub.status.busy": "2025-09-28T01:36:01.942023Z",
     "iopub.status.idle": "2025-09-28T01:36:02.499339Z",
     "shell.execute_reply": "2025-09-28T01:36:02.499000Z",
     "shell.execute_reply.started": "2025-09-28T01:36:01.942111Z"
    },
    "tags": []
   },
   "outputs": [
    {
     "name": "stdout",
     "output_type": "stream",
     "text": [
      "Time Derivatives of S\n",
      "Time Cost: 0.55s\n",
      "Memory of S       :  2883.911 MB (3, 3, 42000001)\n",
      "Memory of Sdot    :  2883.911 MB (3, 3, 42000001)\n",
      "Memory of SdotNorm:   961.304 MB (3, 42000001)\n"
     ]
    }
   ],
   "source": [
    "# Time Derivatives of S\n",
    "print(\"Time Derivatives of S\")\n",
    "start_time = time.time()\n",
    "\n",
    "# Sdot\n",
    "SdotNorm = np.sqrt(np.einsum('ijk,ijk->ik', Sdot, Sdot))\n",
    "\n",
    "print(\"Time Cost: {:.2f}s\".format(time.time() - start_time))\n",
    "print(\"Memory of S       : {:9.3f} MB {:}\".format(S.nbytes/(1024**2), S.shape))\n",
    "print(\"Memory of Sdot    : {:9.3f} MB {:}\".format(Sdot.nbytes/(1024**2), Sdot.shape))\n",
    "print(\"Memory of SdotNorm: {:9.3f} MB {:}\".format(SdotNorm.nbytes/(1024**2), SdotNorm.shape))"
   ]
  },
  {
   "cell_type": "markdown",
   "id": "6915df3c-b920-4b66-807e-a67e032be1ff",
   "metadata": {},
   "source": [
    "#### Time Derivatives of R"
   ]
  },
  {
   "cell_type": "code",
   "execution_count": 27,
   "id": "e339300b-bb67-4402-b996-3eaac4bf4348",
   "metadata": {
    "execution": {
     "iopub.execute_input": "2025-09-28T01:36:02.499806Z",
     "iopub.status.busy": "2025-09-28T01:36:02.499710Z",
     "iopub.status.idle": "2025-09-28T01:36:04.394528Z",
     "shell.execute_reply": "2025-09-28T01:36:04.394161Z",
     "shell.execute_reply.started": "2025-09-28T01:36:02.499797Z"
    },
    "tags": []
   },
   "outputs": [
    {
     "name": "stdout",
     "output_type": "stream",
     "text": [
      "Time Derivatives of R\n",
      "Time Cost: 1.89s\n",
      "Memory of R       :  2883.911 MB (3, 3, 42000001)\n",
      "Memory of Rdot    :  2883.911 MB (3, 3, 42000001)\n",
      "Memory of RdotNorm:   961.304 MB (3, 42000001)\n"
     ]
    }
   ],
   "source": [
    "# Time Derivatives of R\n",
    "print(\"Time Derivatives of R\")\n",
    "start_time = time.time()\n",
    "\n",
    "# Rdot\n",
    "Rdot = np.full_like(R, np.nan)\n",
    "Rdot[:,:,:-1] = (R[:,:,1:] - R[:,:,:-1])/deltaT\n",
    "# RdotNorm\n",
    "RdotNorm = np.sqrt(np.einsum('ijk,ijk->ik', Rdot, Rdot))\n",
    "\n",
    "print(\"Time Cost: {:.2f}s\".format(time.time() - start_time))\n",
    "print(\"Memory of R       : {:9.3f} MB {:}\".format(R.nbytes/(1024**2), R.shape))\n",
    "print(\"Memory of Rdot    : {:9.3f} MB {:}\".format(Rdot.nbytes/(1024**2), Rdot.shape))\n",
    "print(\"Memory of RdotNorm: {:9.3f} MB {:}\".format(RdotNorm.nbytes/(1024**2), RdotNorm.shape))"
   ]
  },
  {
   "cell_type": "markdown",
   "id": "61901d12-8757-45c5-9492-62b180d921e6",
   "metadata": {},
   "source": [
    "#### Time Reversal Point"
   ]
  },
  {
   "cell_type": "code",
   "execution_count": 28,
   "id": "467f00a9-455c-43e9-850a-59dca55112bb",
   "metadata": {
    "execution": {
     "iopub.execute_input": "2025-09-28T01:36:04.395103Z",
     "iopub.status.busy": "2025-09-28T01:36:04.394979Z",
     "iopub.status.idle": "2025-09-28T01:36:04.397094Z",
     "shell.execute_reply": "2025-09-28T01:36:04.396856Z",
     "shell.execute_reply.started": "2025-09-28T01:36:04.395089Z"
    },
    "tags": []
   },
   "outputs": [],
   "source": [
    "from utils import get_extremes"
   ]
  },
  {
   "cell_type": "code",
   "execution_count": 29,
   "id": "4bd63697-0059-4bd9-8c07-e21830c89950",
   "metadata": {
    "execution": {
     "iopub.execute_input": "2025-09-28T01:36:04.397457Z",
     "iopub.status.busy": "2025-09-28T01:36:04.397357Z",
     "iopub.status.idle": "2025-09-28T01:36:05.311754Z",
     "shell.execute_reply": "2025-09-28T01:36:05.311405Z",
     "shell.execute_reply.started": "2025-09-28T01:36:04.397447Z"
    },
    "tags": []
   },
   "outputs": [
    {
     "name": "stdout",
     "output_type": "stream",
     "text": [
      "== Shape space ==\n",
      "Minimal value = 0.44774724\n",
      "Number of minimal values: [18800]\n",
      "Maximal value = 3.42866006\n",
      "Number of maximal values: [36400]\n",
      "== Real space ==\n",
      "Minimal value = 0.45132822\n",
      "Number of minimal values: [18000]\n",
      "Maximal value = 2.52544060\n",
      "Number of maximal values: [86400]\n"
     ]
    }
   ],
   "source": [
    "print(\"== Shape space ==\")\n",
    "idx_min_SumSdotNorm, value_min_SumSdotNorm = get_extremes(np.sum(SdotNorm,axis=0), \"min\", 1e-4)\n",
    "idx_max_SumSdotNorm, value_max_SumSdotNorm = get_extremes(np.sum(SdotNorm,axis=0), \"max\", 1e-4)\n",
    "\n",
    "print(\"== Real space ==\")\n",
    "idx_min_SumRdotNorm, value_min_SumRdotNorm = get_extremes(np.sum(RdotNorm,axis=0), \"min\", 1e-4)\n",
    "idx_max_SumRdotNorm, value_max_SumRdotNorm = get_extremes(np.sum(RdotNorm,axis=0), \"max\", 1e-4)"
   ]
  },
  {
   "cell_type": "markdown",
   "id": "77a1305d-274f-4a80-b79d-d10b28999e5d",
   "metadata": {},
   "source": [
    "### Momentum and Angular Momentum"
   ]
  },
  {
   "cell_type": "markdown",
   "id": "e0b87688-392c-4578-9dd6-e7e49f8de475",
   "metadata": {},
   "source": [
    "#### Momentum in Shape Space and Real Space"
   ]
  },
  {
   "cell_type": "code",
   "execution_count": 30,
   "id": "f9042b14-887b-4701-82c5-8571f9ccc2cb",
   "metadata": {
    "execution": {
     "iopub.execute_input": "2025-09-28T01:36:05.312238Z",
     "iopub.status.busy": "2025-09-28T01:36:05.312131Z",
     "iopub.status.idle": "2025-09-28T01:36:06.708167Z",
     "shell.execute_reply": "2025-09-28T01:36:06.707823Z",
     "shell.execute_reply.started": "2025-09-28T01:36:05.312228Z"
    },
    "tags": []
   },
   "outputs": [
    {
     "name": "stdout",
     "output_type": "stream",
     "text": [
      "Momentum in Shape Space and Real Space\n",
      "Time Cost: 1.39s\n",
      "Memory of momentum_shape:   961.304 MB (3, 42000001)\n",
      "Memory of momentum_real :   961.304 MB (3, 42000001)\n"
     ]
    }
   ],
   "source": [
    "print(\"Momentum in Shape Space and Real Space\")\n",
    "start_time = time.time()\n",
    "\n",
    "momentum_shape = np.sum(mass[:,np.newaxis,np.newaxis] * Sdot, axis=0)\n",
    "momentum_real = np.sum(mass[:,np.newaxis,np.newaxis] * Rdot, axis=0)\n",
    "\n",
    "print(\"Time Cost: {:.2f}s\".format(time.time() - start_time))\n",
    "print(\"Memory of momentum_shape: {:9.3f} MB {:}\".format(momentum_shape.nbytes/(1024**2), momentum_shape.shape))\n",
    "print(\"Memory of momentum_real : {:9.3f} MB {:}\".format(momentum_real.nbytes/(1024**2), momentum_real.shape))"
   ]
  },
  {
   "cell_type": "code",
   "execution_count": 31,
   "id": "3ee20cc4-fa2a-4368-b202-6a4bcdce17b8",
   "metadata": {
    "execution": {
     "iopub.execute_input": "2025-09-28T01:36:06.708652Z",
     "iopub.status.busy": "2025-09-28T01:36:06.708541Z",
     "iopub.status.idle": "2025-09-28T01:36:08.263093Z",
     "shell.execute_reply": "2025-09-28T01:36:08.262746Z",
     "shell.execute_reply.started": "2025-09-28T01:36:06.708642Z"
    },
    "tags": []
   },
   "outputs": [
    {
     "name": "stdout",
     "output_type": "stream",
     "text": [
      "Momentum in shape space [avg <std>]: [-5.89944528e-17 -4.38148970e-18  0.00000000e+00] <[6.73325647e-11 5.92087666e-11 0.00000000e+00]>\n",
      "Momentum in real  space [avg <std>]: [-3.69347410e-18 -1.46879153e-18  0.00000000e+00] <[6.55080541e-11 6.62943294e-11 0.00000000e+00]>\n"
     ]
    }
   ],
   "source": [
    "print(\"Momentum in shape space [avg <std>]: {:} <{:}>\".format(np.nanmean(momentum_shape, axis=1), np.nanstd(momentum_shape, axis=1)))\n",
    "print(\"Momentum in real  space [avg <std>]: {:} <{:}>\".format(np.nanmean(momentum_real, axis=1), np.nanstd(momentum_real, axis=1)))"
   ]
  },
  {
   "cell_type": "markdown",
   "id": "d180d863-a2c0-4f27-915d-fe5514343009",
   "metadata": {},
   "source": [
    "#### Angular Momentum in Shape Space and Real Space"
   ]
  },
  {
   "cell_type": "code",
   "execution_count": 32,
   "id": "e0c45ce1-0b26-45e2-be5f-452d5c886c31",
   "metadata": {
    "execution": {
     "iopub.execute_input": "2025-09-28T01:36:08.263568Z",
     "iopub.status.busy": "2025-09-28T01:36:08.263460Z",
     "iopub.status.idle": "2025-09-28T01:36:08.265585Z",
     "shell.execute_reply": "2025-09-28T01:36:08.265280Z",
     "shell.execute_reply.started": "2025-09-28T01:36:08.263558Z"
    },
    "tags": []
   },
   "outputs": [],
   "source": [
    "from utils import compute_angular_momentum"
   ]
  },
  {
   "cell_type": "code",
   "execution_count": 33,
   "id": "18445166-4f29-4972-a83b-66a4d99c806d",
   "metadata": {
    "execution": {
     "iopub.execute_input": "2025-09-28T01:36:08.265968Z",
     "iopub.status.busy": "2025-09-28T01:36:08.265880Z",
     "iopub.status.idle": "2025-09-28T01:36:12.448352Z",
     "shell.execute_reply": "2025-09-28T01:36:12.448047Z",
     "shell.execute_reply.started": "2025-09-28T01:36:08.265959Z"
    },
    "tags": []
   },
   "outputs": [
    {
     "name": "stdout",
     "output_type": "stream",
     "text": [
      "Angular Momentum in Shape Space and Real Space\n",
      "Time Cost: 4.18s\n",
      "Memory of angular_momentum_shape:   961.304 MB (3, 42000001)\n",
      "Memory of angular_momentum_real :   961.304 MB (3, 42000001)\n"
     ]
    }
   ],
   "source": [
    "print(\"Angular Momentum in Shape Space and Real Space\")\n",
    "start_time = time.time()\n",
    "\n",
    "angular_momentum_shape = compute_angular_momentum(S, Sdot, mass)\n",
    "angular_momentum_real = compute_angular_momentum(R, Rdot, mass)\n",
    "\n",
    "print(\"Time Cost: {:.2f}s\".format(time.time() - start_time))\n",
    "print(\"Memory of angular_momentum_shape: {:9.3f} MB {:}\".format(angular_momentum_shape.nbytes/(1024**2), angular_momentum_shape.shape))\n",
    "print(\"Memory of angular_momentum_real : {:9.3f} MB {:}\".format(angular_momentum_real.nbytes/(1024**2), angular_momentum_real.shape))"
   ]
  },
  {
   "cell_type": "code",
   "execution_count": 34,
   "id": "2dd42476-8c8b-4f12-bb04-8c509be586a2",
   "metadata": {
    "execution": {
     "iopub.execute_input": "2025-09-28T01:36:12.448819Z",
     "iopub.status.busy": "2025-09-28T01:36:12.448721Z",
     "iopub.status.idle": "2025-09-28T01:36:18.055286Z",
     "shell.execute_reply": "2025-09-28T01:36:18.054934Z",
     "shell.execute_reply.started": "2025-09-28T01:36:12.448809Z"
    },
    "tags": []
   },
   "outputs": [
    {
     "name": "stdout",
     "output_type": "stream",
     "text": [
      "Angular momentum in shape space [avg <std>]: [0.         0.         0.09964652] <[0.         0.         2.41459523]>\n",
      "Angular momentum in real  space [avg <std>]: [ 0.00000000e+00  0.00000000e+00 -4.86627356e-06] <[0.00000000e+00 0.00000000e+00 5.36091072e-06]>\n"
     ]
    }
   ],
   "source": [
    "print(\"Angular momentum in shape space [avg <std>]: {:} <{:}>\".format(np.nanmean(angular_momentum_shape, axis=1), np.nanstd(angular_momentum_shape, axis=1)))\n",
    "print(\"Angular momentum in real  space [avg <std>]: {:} <{:}>\".format(np.nanmean(angular_momentum_real, axis=1), np.nanstd(angular_momentum_real, axis=1)))"
   ]
  },
  {
   "cell_type": "markdown",
   "id": "b3e23b4e-bdd5-4df4-b119-447c33d2b0d2",
   "metadata": {},
   "source": [
    "#### Inertia Tensoer and Instantaneous Angular Velocity"
   ]
  },
  {
   "cell_type": "code",
   "execution_count": 35,
   "id": "bb55cfcb-44e1-4bb7-aba5-2500cb76d609",
   "metadata": {
    "execution": {
     "iopub.execute_input": "2025-09-28T01:36:18.055776Z",
     "iopub.status.busy": "2025-09-28T01:36:18.055667Z",
     "iopub.status.idle": "2025-09-28T01:36:18.057659Z",
     "shell.execute_reply": "2025-09-28T01:36:18.057406Z",
     "shell.execute_reply.started": "2025-09-28T01:36:18.055765Z"
    },
    "tags": []
   },
   "outputs": [],
   "source": [
    "from utils import compute_inertia_tensor, compute_angular_velocity"
   ]
  },
  {
   "cell_type": "code",
   "execution_count": 36,
   "id": "29614466-c147-4ef3-ba04-c668194bbd34",
   "metadata": {
    "execution": {
     "iopub.execute_input": "2025-09-28T01:36:18.058055Z",
     "iopub.status.busy": "2025-09-28T01:36:18.057962Z",
     "iopub.status.idle": "2025-09-28T01:36:42.925632Z",
     "shell.execute_reply": "2025-09-28T01:36:42.925278Z",
     "shell.execute_reply.started": "2025-09-28T01:36:18.058043Z"
    },
    "tags": []
   },
   "outputs": [
    {
     "name": "stdout",
     "output_type": "stream",
     "text": [
      "Inertia Tensor in Shape Space and Real Space\n",
      "Time Cost: 24.86s\n",
      "Memory of inertia_tensor_shape:  2883.911 MB (3, 3, 42000001)\n",
      "Memory of inertia_tensor_real :  2883.911 MB (3, 3, 42000001)\n"
     ]
    }
   ],
   "source": [
    "print(\"Inertia Tensor in Shape Space and Real Space\")\n",
    "start_time = time.time()\n",
    "\n",
    "inertia_tensor_shape = compute_inertia_tensor(S, mass)\n",
    "inertia_tensor_real = compute_inertia_tensor(R, mass)\n",
    "\n",
    "print(\"Time Cost: {:.2f}s\".format(time.time() - start_time))\n",
    "print(\"Memory of inertia_tensor_shape: {:9.3f} MB {:}\".format(inertia_tensor_shape.nbytes/(1024**2), inertia_tensor_shape.shape))\n",
    "print(\"Memory of inertia_tensor_real : {:9.3f} MB {:}\".format(inertia_tensor_real.nbytes/(1024**2), inertia_tensor_real.shape))"
   ]
  },
  {
   "cell_type": "code",
   "execution_count": 37,
   "id": "6b86287b-246e-471b-adbc-d1e78a2f295e",
   "metadata": {
    "execution": {
     "iopub.execute_input": "2025-09-28T01:36:42.926103Z",
     "iopub.status.busy": "2025-09-28T01:36:42.925997Z",
     "iopub.status.idle": "2025-09-28T01:36:47.593334Z",
     "shell.execute_reply": "2025-09-28T01:36:47.592988Z",
     "shell.execute_reply.started": "2025-09-28T01:36:42.926091Z"
    },
    "tags": []
   },
   "outputs": [
    {
     "name": "stdout",
     "output_type": "stream",
     "text": [
      "Average of inertia tensor in shape space:\n",
      "[[ 1.39113931 -0.13359315  0.        ]\n",
      " [-0.13359315  1.4612624   0.        ]\n",
      " [ 0.          0.          2.8524017 ]]\n",
      "[[0.29999813 0.29651736 0.        ]\n",
      " [0.29651736 0.29127225 0.        ]\n",
      " [0.         0.         0.36674659]]\n",
      "Average of inertia tensor in real  space:\n",
      "[[ 1.41638826 -0.00650134  0.        ]\n",
      " [-0.00650134  1.43601345  0.        ]\n",
      " [ 0.          0.          2.8524017 ]]\n",
      "[[0.33609308 0.28309761 0.        ]\n",
      " [0.28309761 0.33957649 0.        ]\n",
      " [0.         0.         0.36674659]]\n"
     ]
    }
   ],
   "source": [
    "print(\"Average of inertia tensor in shape space:\")\n",
    "print(np.nanmean(inertia_tensor_shape, axis=2))\n",
    "print(np.nanstd(inertia_tensor_shape, axis=2))\n",
    "print(\"Average of inertia tensor in real  space:\")\n",
    "print(np.nanmean(inertia_tensor_real, axis=2))\n",
    "print(np.nanstd(inertia_tensor_real, axis=2))"
   ]
  },
  {
   "cell_type": "code",
   "execution_count": 38,
   "id": "f766508c-34cb-4c83-91ec-b9ffdc86e36a",
   "metadata": {
    "execution": {
     "iopub.execute_input": "2025-09-28T01:36:47.593837Z",
     "iopub.status.busy": "2025-09-28T01:36:47.593722Z",
     "iopub.status.idle": "2025-09-28T01:36:55.062366Z",
     "shell.execute_reply": "2025-09-28T01:36:55.061901Z",
     "shell.execute_reply.started": "2025-09-28T01:36:47.593826Z"
    },
    "tags": []
   },
   "outputs": [
    {
     "name": "stdout",
     "output_type": "stream",
     "text": [
      "Instantaneous Angular Velocity in Shape Space and Real Space\n",
      "Time Cost: 7.47s\n",
      "Memory of omega_shape:   961.304 MB (3, 42000001)\n",
      "Memory of omega_real :   961.304 MB (3, 42000001)\n"
     ]
    }
   ],
   "source": [
    "print(\"Instantaneous Angular Velocity in Shape Space and Real Space\")\n",
    "start_time = time.time()\n",
    "\n",
    "omega_shape = compute_angular_velocity(inertia_tensor_shape, angular_momentum_shape)\n",
    "omega_real = compute_angular_velocity(inertia_tensor_real, angular_momentum_real)\n",
    "\n",
    "print(\"Time Cost: {:.2f}s\".format(time.time() - start_time))\n",
    "print(\"Memory of omega_shape: {:9.3f} MB {:}\".format(omega_shape.nbytes/(1024**2), omega_shape.shape))\n",
    "print(\"Memory of omega_real : {:9.3f} MB {:}\".format(omega_real.nbytes/(1024**2), omega_real.shape))"
   ]
  },
  {
   "cell_type": "code",
   "execution_count": 39,
   "id": "7e2f2fdb-72cf-41e2-a654-e0f8c184c9f8",
   "metadata": {
    "execution": {
     "iopub.execute_input": "2025-09-28T01:36:55.062973Z",
     "iopub.status.busy": "2025-09-28T01:36:55.062850Z",
     "iopub.status.idle": "2025-09-28T01:36:56.991083Z",
     "shell.execute_reply": "2025-09-28T01:36:56.990694Z",
     "shell.execute_reply.started": "2025-09-28T01:36:55.062962Z"
    },
    "tags": []
   },
   "outputs": [
    {
     "name": "stdout",
     "output_type": "stream",
     "text": [
      "Rotation Angle via Integrating omega over All      in Shape Space: [ 0.          0.         10.72389035]\n",
      "Rotation Angle via Integrating omega over 1-Period in Shape Space: [0.         0.         0.05361945]\n",
      "Rotation Angle via Integrating omega over All      in Real  Space: [ 0.          0.         -0.00073567]\n",
      "Rotation Angle via Integrating omega over 1-Period in Real  Space: [ 0.00000000e+00  0.00000000e+00 -3.67835721e-06]\n"
     ]
    }
   ],
   "source": [
    "print(\"Rotation Angle via Integrating omega over All      in Shape Space: {:}\".format(np.nansum(omega_shape, axis=-1)*deltaT))\n",
    "print(\"Rotation Angle via Integrating omega over 1-Period in Shape Space: {:}\".format(np.nansum(omega_shape, axis=-1)*deltaT/total_periods))\n",
    "\n",
    "print(\"Rotation Angle via Integrating omega over All      in Real  Space: {:}\".format(np.nansum(omega_real, axis=-1)*deltaT))\n",
    "print(\"Rotation Angle via Integrating omega over 1-Period in Real  Space: {:}\".format(np.nansum(omega_real, axis=-1)*deltaT/total_periods))"
   ]
  },
  {
   "cell_type": "code",
   "execution_count": 40,
   "id": "428b940b-40c3-4c61-b69a-690769df0e73",
   "metadata": {
    "execution": {
     "iopub.execute_input": "2025-09-28T01:36:56.991599Z",
     "iopub.status.busy": "2025-09-28T01:36:56.991495Z",
     "iopub.status.idle": "2025-09-28T01:36:57.962279Z",
     "shell.execute_reply": "2025-09-28T01:36:57.961686Z",
     "shell.execute_reply.started": "2025-09-28T01:36:56.991586Z"
    },
    "tags": []
   },
   "outputs": [
    {
     "name": "stdout",
     "output_type": "stream",
     "text": [
      "Theta(T)_connection:    -0.053619451743\n",
      "Theta(T)_omegashape:     0.053619451743\n",
      "Theta(T)_omegareal :    -0.000003678357\n"
     ]
    }
   ],
   "source": [
    "print(\"Theta(T)_connection: {:>18.12f}\".format((Theta[-1]-Theta[0])/total_periods))\n",
    "print(\"Theta(T)_omegashape: {:>18.12f}\".format((np.nansum(omega_shape, axis=-1)*deltaT/total_periods)[-1]))\n",
    "print(\"Theta(T)_omegareal : {:>18.12f}\".format((np.nansum(omega_real, axis=-1)*deltaT/total_periods)[-1]))"
   ]
  },
  {
   "cell_type": "code",
   "execution_count": 41,
   "id": "f59ecaa0-6c7a-46cb-b2dc-d868d525d722",
   "metadata": {
    "execution": {
     "iopub.execute_input": "2025-09-28T01:36:57.962896Z",
     "iopub.status.busy": "2025-09-28T01:36:57.962793Z",
     "iopub.status.idle": "2025-09-28T01:38:59.273930Z",
     "shell.execute_reply": "2025-09-28T01:38:59.273521Z",
     "shell.execute_reply.started": "2025-09-28T01:36:57.962886Z"
    },
    "tags": []
   },
   "outputs": [
    {
     "name": "stdout",
     "output_type": "stream",
     "text": [
      "[omega -> Theta_omega]\n"
     ]
    },
    {
     "name": "stderr",
     "output_type": "stream",
     "text": [
      "Calculating Theta_omega: 100%|██████████| 42000000/42000000 [02:01<00:00, 346748.51step/s]"
     ]
    },
    {
     "name": "stdout",
     "output_type": "stream",
     "text": [
      "Time Cost: 121.31s\n"
     ]
    },
    {
     "name": "stderr",
     "output_type": "stream",
     "text": [
      "\n"
     ]
    }
   ],
   "source": [
    "print(\"[omega -> Theta_omega]\")\n",
    "start_time = time.time()\n",
    "Theta_omega_shape = np.zeros_like(omega_shape)\n",
    "Theta_omega_real = np.zeros_like(omega_real)\n",
    "\n",
    "for t in tqdm(range(1, len(steps)), desc=\"Calculating Theta_omega\", unit=\"step\"):\n",
    "    Theta_omega_shape[:,t] = Theta_omega_shape[:,t-1] + omega_shape[:,t-1]*deltaT\n",
    "    Theta_omega_real[:,t] = Theta_omega_real[:,t-1] + omega_real[:,t-1]*deltaT\n",
    "\n",
    "print(\"Time Cost: {:.2f}s\".format(time.time() - start_time))"
   ]
  },
  {
   "cell_type": "markdown",
   "id": "c2045fe0-a80e-4447-a124-9813c066e670",
   "metadata": {},
   "source": [
    "#### **Figures 1 b)**: Angule and Effective angular momentum"
   ]
  },
  {
   "cell_type": "code",
   "execution_count": 42,
   "id": "1f4b895f-0d25-4884-aca6-cccb7f7b0de1",
   "metadata": {
    "execution": {
     "iopub.execute_input": "2025-09-28T01:38:59.274352Z",
     "iopub.status.busy": "2025-09-28T01:38:59.274254Z",
     "iopub.status.idle": "2025-09-28T01:39:00.799146Z",
     "shell.execute_reply": "2025-09-28T01:39:00.798830Z",
     "shell.execute_reply.started": "2025-09-28T01:38:59.274343Z"
    },
    "tags": []
   },
   "outputs": [
    {
     "data": {
      "text/plain": [
       "array([[ 1.41638826, -0.00650134,  0.        ],\n",
       "       [-0.00650134,  1.43601345,  0.        ],\n",
       "       [ 0.        ,  0.        ,  2.8524017 ]])"
      ]
     },
     "execution_count": 42,
     "metadata": {},
     "output_type": "execute_result"
    }
   ],
   "source": [
    "inertia_tensor_real_average = np.nanmean(inertia_tensor_real, axis=2)\n",
    "inertia_tensor_real_average"
   ]
  },
  {
   "cell_type": "code",
   "execution_count": 43,
   "id": "35ac4ca8-2ad9-4a81-bed2-ebd84f9e4367",
   "metadata": {
    "execution": {
     "iopub.execute_input": "2025-09-28T01:39:00.799595Z",
     "iopub.status.busy": "2025-09-28T01:39:00.799495Z",
     "iopub.status.idle": "2025-09-28T01:39:00.957132Z",
     "shell.execute_reply": "2025-09-28T01:39:00.956799Z",
     "shell.execute_reply.started": "2025-09-28T01:39:00.799585Z"
    },
    "tags": []
   },
   "outputs": [
    {
     "name": "stderr",
     "output_type": "stream",
     "text": [
      "/tmp/ipykernel_2850168/4268061049.py:1: RuntimeWarning: invalid value encountered in divide\n",
      "  angular_momentum_eff = inertia_tensor_real_average[2,2]*Theta/(steps*deltaT)\n"
     ]
    }
   ],
   "source": [
    "angular_momentum_eff = inertia_tensor_real_average[2,2]*Theta/(steps*deltaT)\n",
    "angular_momontum_eff_avg = np.nanmean(angular_momentum_eff[100*stepsLeastCommonPeriod:])"
   ]
  },
  {
   "cell_type": "raw",
   "id": "8c16cac8-95a5-4d7d-8d7c-cc6c0ceb3e91",
   "metadata": {
    "execution": {
     "iopub.execute_input": "2025-09-28T01:14:44.568404Z",
     "iopub.status.busy": "2025-09-28T01:14:44.568297Z",
     "iopub.status.idle": "2025-09-28T01:14:44.571054Z",
     "shell.execute_reply": "2025-09-28T01:14:44.570827Z",
     "shell.execute_reply.started": "2025-09-28T01:14:44.568389Z"
    },
    "tags": []
   },
   "source": [
    "inertia_tensor_real_average[2,2]*((Theta[-1]-Theta[0])/nPeriod)/(stepsLeastCommonPeriod*deltaT)"
   ]
  },
  {
   "cell_type": "code",
   "execution_count": 44,
   "id": "e3b26bc9-73c8-45d4-a47e-f09e83a9bef6",
   "metadata": {
    "execution": {
     "iopub.execute_input": "2025-09-28T01:39:00.957578Z",
     "iopub.status.busy": "2025-09-28T01:39:00.957484Z",
     "iopub.status.idle": "2025-09-28T01:39:00.959742Z",
     "shell.execute_reply": "2025-09-28T01:39:00.959482Z",
     "shell.execute_reply.started": "2025-09-28T01:39:00.957568Z"
    },
    "tags": []
   },
   "outputs": [
    {
     "name": "stdout",
     "output_type": "stream",
     "text": [
      "Averaged moment of inertia: 2.85240170\n",
      "Averaged effective angular momentum: -7.23839659e-02\n"
     ]
    }
   ],
   "source": [
    "print(\"Averaged moment of inertia: {:.8f}\".format(inertia_tensor_real_average[2,2]))\n",
    "print(\"Averaged effective angular momentum: {:.8e}\".format(angular_momontum_eff_avg))"
   ]
  },
  {
   "cell_type": "code",
   "execution_count": 45,
   "id": "a3b04abb-15aa-43f5-b960-8783b497d70f",
   "metadata": {
    "execution": {
     "iopub.execute_input": "2025-09-28T01:39:00.960063Z",
     "iopub.status.busy": "2025-09-28T01:39:00.959978Z",
     "iopub.status.idle": "2025-09-28T01:39:00.964972Z",
     "shell.execute_reply": "2025-09-28T01:39:00.964735Z",
     "shell.execute_reply.started": "2025-09-28T01:39:00.960054Z"
    },
    "tags": []
   },
   "outputs": [],
   "source": [
    "def plot_combined_theta_angular(figure_dir, index_plot=None,\n",
    "                                figure_name=\"combined_theta_angular.png\", figsize=(12,10), dpi=150,\n",
    "                                theta_linewidth=3, angular_linewidth=3,\n",
    "                                theta_color='b', angular_color='r',\n",
    "                                xlim=None, xtick_spacing=None, theta_ylim=None, angular_ylim=None, \n",
    "                                show_zeroline=True, show_vlines=True, show_marklines=True,\n",
    "                                label_theta='$\\\\theta$', label_angular='$L_{eff}$', title_string=None):\n",
    "    #\n",
    "    fig, ax1 = plt.subplots(figsize=figsize)\n",
    "    ax2 = ax1.twinx()  \n",
    "\n",
    "    #\n",
    "    if index_plot is None:\n",
    "        index_plot = range(0, steps.shape[-1])\n",
    "    x_values = steps[index_plot] * deltaT\n",
    "    \n",
    "    # angular momentum effective-right\n",
    "    ax2.plot(x_values, angular_momentum_eff[index_plot],\n",
    "             color=angular_color, linewidth=angular_linewidth, label=label_angular)\n",
    "    \n",
    "    # theta-left\n",
    "    ax1.plot(x_values, Theta[index_plot], \n",
    "             color=theta_color,  linewidth=theta_linewidth, label=label_theta)\n",
    "    \n",
    "    #\n",
    "    if show_zeroline:\n",
    "        ax1.axhline(0, color='k', linestyle='--', linewidth=1.5, alpha=0.5)\n",
    "        ax2.axhline(0, color='k', linestyle='--', linewidth=1.5, alpha=0.5)\n",
    "    \n",
    "    #\n",
    "    if show_vlines:\n",
    "        plot_period_vlines(ax1, x_values, Theta, show_vline=True, show_markline=show_marklines)\n",
    "\n",
    "    #\n",
    "    ax1.set_xlabel('Time', fontsize=18)\n",
    "    if xtick_spacing is not None:\n",
    "        ax1.xaxis.set_major_locator(ticker.MultipleLocator(xtick_spacing))\n",
    "    ax1.set_ylabel(label_theta, color=theta_color, rotation=0, fontsize=26, va='center')\n",
    "    ax2.set_ylabel(label_angular, color=angular_color, rotation=0, fontsize=18, va='center', ha='left')\n",
    "    \n",
    "    #\n",
    "    ax1.tick_params(axis='y', labelcolor=theta_color)\n",
    "    ax2.tick_params(axis='y', labelcolor=angular_color)\n",
    "    \n",
    "    #\n",
    "    if xlim is not None:\n",
    "        ax1.set_xlim(xlim)\n",
    "    if theta_ylim is not None:\n",
    "        ax1.set_ylim(theta_ylim)\n",
    "    if angular_ylim is not None:\n",
    "        ax2.set_ylim(angular_ylim)\n",
    "\n",
    "    #\n",
    "    lines1, labels1 = ax1.get_legend_handles_labels()\n",
    "    lines2, labels2 = ax2.get_legend_handles_labels()\n",
    "    ax1.legend(lines1 + lines2, labels1 + labels2, loc='upper right')\n",
    "    \n",
    "    if title_string is not None:\n",
    "        ax1.set_title(title_string)\n",
    "\n",
    "    plt.tight_layout()\n",
    "    plt.savefig(os.path.join(figure_dir, figure_name), dpi=dpi)\n",
    "    plt.close()"
   ]
  },
  {
   "cell_type": "code",
   "execution_count": 54,
   "id": "6a03678d-5a47-4c9e-87da-fa1a0470b3b3",
   "metadata": {
    "execution": {
     "iopub.execute_input": "2025-09-28T01:41:06.384105Z",
     "iopub.status.busy": "2025-09-28T01:41:06.383907Z",
     "iopub.status.idle": "2025-09-28T01:41:06.528950Z",
     "shell.execute_reply": "2025-09-28T01:41:06.528638Z",
     "shell.execute_reply.started": "2025-09-28T01:41:06.384092Z"
    },
    "tags": []
   },
   "outputs": [
    {
     "name": "stdout",
     "output_type": "stream",
     "text": [
      "strobescope=1.5750 [  75.0% of T]\n"
     ]
    }
   ],
   "source": [
    "if save_name == \"3VarMassUUD_cos_e8ed382a034d5eb0f2787073dba3803d0387b66f4e1f85c2feb492b768fb4711\":\n",
    "    figsize = (6,5)\n",
    "    strobescope_list = [157500] #[4200, 42000, 105000, 157500, 210000]\n",
    "    xlim_list =  [[200, 400]]#[[200,230], [200,230], [200,300], [200, 400], [200, 420]]\n",
    "    xtick_spacing_list = [None] #[None, None, None, None, None]\n",
    "    theta_ylim_list = [[-11, -5]] #[[-6.1,-4.9], [-6.0,-4.9], [-7.7, -5], [-11, -5], [-11, -5]]\n",
    "    angular_ylim_list = [[-0.09,-0.06]] #[[-0.076,-0.069], [-0.0745,-0.069], [-0.073,-0.071], [-0.09,-0.06], [-0.073,-0.0725]]\n",
    "    show_zerolines = [False] #[False, False, False, False, False]\n",
    "else:\n",
    "    strobescope_list = []\n",
    "\n",
    "\n",
    "for i, strobescope in enumerate(strobescope_list):\n",
    "    print(\"strobescope={:.4f} [{:>7.1%} of T]\".format(strobescope*deltaT, strobescope/stepsLeastCommonPeriod))\n",
    "    plot_combined_theta_angular(figure_dir, index_plot=range(50*stepsLeastCommonPeriod+1,200*stepsLeastCommonPeriod+1,strobescope),\n",
    "                                theta_linewidth=3, angular_linewidth=1.5,\n",
    "                                xlim=xlim_list[i], xtick_spacing=xtick_spacing_list[i],\n",
    "                                theta_ylim=theta_ylim_list[i], angular_ylim=angular_ylim_list[i],\n",
    "                                title_string=\"{:>7.1%}T\".format(strobescope/stepsLeastCommonPeriod),\n",
    "                                show_zeroline=show_zerolines[i], show_vlines=False, show_marklines=False,\n",
    "                                figure_name=\"combined_theta_angular_strobe{:d}.png\".format(strobescope), figsize=figsize)"
   ]
  },
  {
   "cell_type": "code",
   "execution_count": null,
   "id": "2a7d7351-178c-481f-a8bf-001224920df5",
   "metadata": {},
   "outputs": [],
   "source": []
  },
  {
   "cell_type": "markdown",
   "id": "b6cea18b-3318-4867-aa69-b0342b52e51b",
   "metadata": {},
   "source": [
    "## Visualization-3: $\\psi=\\phi_{13}-\\phi_{23}$ scan, $\\phi_{13}=\\pi/4$"
   ]
  },
  {
   "cell_type": "code",
   "execution_count": 47,
   "id": "627cb6ad-7a27-40e5-8cb1-aed3aec23f59",
   "metadata": {
    "execution": {
     "iopub.execute_input": "2025-09-28T01:39:01.749740Z",
     "iopub.status.busy": "2025-09-28T01:39:01.749646Z",
     "iopub.status.idle": "2025-09-28T01:39:01.751534Z",
     "shell.execute_reply": "2025-09-28T01:39:01.751264Z",
     "shell.execute_reply.started": "2025-09-28T01:39:01.749731Z"
    },
    "tags": []
   },
   "outputs": [],
   "source": [
    "from fractions import Fraction"
   ]
  },
  {
   "cell_type": "code",
   "execution_count": 48,
   "id": "1300164f-79ac-48fc-8733-62efb82a1f16",
   "metadata": {
    "execution": {
     "iopub.execute_input": "2025-09-28T01:39:01.751878Z",
     "iopub.status.busy": "2025-09-28T01:39:01.751795Z",
     "iopub.status.idle": "2025-09-28T01:39:01.755290Z",
     "shell.execute_reply": "2025-09-28T01:39:01.755081Z",
     "shell.execute_reply.started": "2025-09-28T01:39:01.751870Z"
    },
    "tags": []
   },
   "outputs": [
    {
     "data": {
      "text/plain": [
       "('./data/psi.out', True)"
      ]
     },
     "execution_count": 48,
     "metadata": {},
     "output_type": "execute_result"
    }
   ],
   "source": [
    "psi_scan_file = os.path.join(\".\", \"data\", \"psi.out\")\n",
    "\n",
    "psi_scan_file, os.path.exists(psi_scan_file)"
   ]
  },
  {
   "cell_type": "code",
   "execution_count": 49,
   "id": "dcc1c697-13d2-4004-8c72-7eb3a70571a4",
   "metadata": {
    "execution": {
     "iopub.execute_input": "2025-09-28T01:39:01.755626Z",
     "iopub.status.busy": "2025-09-28T01:39:01.755541Z",
     "iopub.status.idle": "2025-09-28T01:39:01.758698Z",
     "shell.execute_reply": "2025-09-28T01:39:01.758476Z",
     "shell.execute_reply.started": "2025-09-28T01:39:01.755618Z"
    },
    "tags": []
   },
   "outputs": [
    {
     "name": "stdout",
     "output_type": "stream",
     "text": [
      "1001 1001\n"
     ]
    }
   ],
   "source": [
    "if os.path.exists(psi_scan_file):\n",
    "    with open(psi_scan_file, \"r\") as file:\n",
    "        psi_scan_lines = [line.strip().split(\"\\t\") for line in file.readlines() if not line.startswith(\"#\")]\n",
    "\n",
    "    psi_scan_data = [(float(x),float(y)) for (x,y) in psi_scan_lines]\n",
    "\n",
    "    print(len(psi_scan_lines), len(psi_scan_data))"
   ]
  },
  {
   "cell_type": "code",
   "execution_count": 50,
   "id": "0b2914f2-3cc4-4675-bec6-49356d03ce40",
   "metadata": {
    "execution": {
     "iopub.execute_input": "2025-09-28T01:39:01.759034Z",
     "iopub.status.busy": "2025-09-28T01:39:01.758951Z",
     "iopub.status.idle": "2025-09-28T01:39:01.761415Z",
     "shell.execute_reply": "2025-09-28T01:39:01.761193Z",
     "shell.execute_reply.started": "2025-09-28T01:39:01.759026Z"
    },
    "tags": []
   },
   "outputs": [
    {
     "data": {
      "text/plain": [
       "True"
      ]
     },
     "execution_count": 50,
     "metadata": {},
     "output_type": "execute_result"
    }
   ],
   "source": [
    "([Fraction(x/np.pi) for x in np.vectorize(Fraction)(np.linspace(0, 2*np.pi, 9)/np.pi)][0]).numerator == 0"
   ]
  },
  {
   "cell_type": "markdown",
   "id": "c96d555c-b88a-446b-85e6-ce48aab9ef44",
   "metadata": {},
   "source": [
    "### **Figures 1 c)**: $\\theta(200T; \\psi)$"
   ]
  },
  {
   "cell_type": "code",
   "execution_count": 51,
   "id": "2d0ebae1-8bff-4cfd-8fc0-ddd605b9c73f",
   "metadata": {
    "execution": {
     "iopub.execute_input": "2025-09-28T01:39:01.761742Z",
     "iopub.status.busy": "2025-09-28T01:39:01.761659Z",
     "iopub.status.idle": "2025-09-28T01:39:01.765614Z",
     "shell.execute_reply": "2025-09-28T01:39:01.765364Z",
     "shell.execute_reply.started": "2025-09-28T01:39:01.761734Z"
    },
    "tags": []
   },
   "outputs": [],
   "source": [
    "def plot_psi_scan(figure_dir, psi_scan_data, figsize=(8,5), figure_name=\"psi_scan.png\", dpi=150, \n",
    "                  linewidth=3, colors ='r', xticks_num=9):\n",
    "    fig, ax = plt.subplots(1, 1, figsize=figsize)\n",
    "    \n",
    "    x_values = [data[0] for data in psi_scan_data]\n",
    "    y_values = [data[1] for data in psi_scan_data]\n",
    "    \n",
    "    #\n",
    "    ax.axhline(0, color='k', linestyle='--', linewidth=1.5, alpha=0.5)\n",
    "    \n",
    "    # \\psi = \\phi_{13} - \\phi_{23}\n",
    "    ax.plot(x_values, y_values, '-', color=colors, linewidth=linewidth)\n",
    "\n",
    "    #\n",
    "    xticks_pos = np.linspace(0, 2*np.pi, xticks_num)\n",
    "    xticks_labels = []\n",
    "    for x in np.vectorize(Fraction)(xticks_pos/np.pi):\n",
    "        numerator = x.numerator\n",
    "        denominator = x.denominator\n",
    "        if numerator == 0:\n",
    "            xticks_labels.append(\"$0$\")\n",
    "        elif numerator == 1 and denominator == 1:\n",
    "            xticks_labels.append(\"$\\pi$\")\n",
    "        elif numerator == 1:\n",
    "            xticks_labels.append(\"$\\pi/{:d}$\".format(denominator))\n",
    "        elif denominator == 1:\n",
    "            xticks_labels.append(\"${:d}\\pi$\".format(numerator))\n",
    "        else:\n",
    "            xticks_labels.append(\"${:d}\\pi$\".format(numerator)+\"/\"+\"${:d}$\".format(denominator))\n",
    "    ax.set_xticks(xticks_pos, labels=xticks_labels)\n",
    "    ax.grid(True, linestyle=':', color='gray', alpha=0.7)\n",
    "    ax.set_xlabel(\"Relative phase difference\", fontsize=18) #ax.set_xlabel(\"$\\\\psi = \\\\phi_{13} - \\\\phi_{23}$\")\n",
    "    ax.set_ylabel(\"$\\\\theta$\", rotation=0, fontsize=26)\n",
    "    \n",
    "    plt.grid(axis='y')\n",
    "    plt.tight_layout()\n",
    "    plt.savefig(os.path.join(figure_dir,figure_name), dpi=dpi)\n",
    "    plt.close()"
   ]
  },
  {
   "cell_type": "code",
   "execution_count": 52,
   "id": "a542ec10-45a8-4602-bcb3-1fb2cca08202",
   "metadata": {
    "execution": {
     "iopub.execute_input": "2025-09-28T01:39:01.765943Z",
     "iopub.status.busy": "2025-09-28T01:39:01.765860Z",
     "iopub.status.idle": "2025-09-28T01:39:01.847070Z",
     "shell.execute_reply": "2025-09-28T01:39:01.846778Z",
     "shell.execute_reply.started": "2025-09-28T01:39:01.765935Z"
    },
    "tags": []
   },
   "outputs": [],
   "source": [
    "if os.path.exists(psi_scan_file):\n",
    "    plot_psi_scan(figure_dir, psi_scan_data, figsize=(6,5), figure_name=\"psi_scan.png\", xticks_num=5, linewidth=5)"
   ]
  },
  {
   "cell_type": "markdown",
   "id": "030f5e62-5037-41bc-86c0-183ff8231d3f",
   "metadata": {},
   "source": [
    "# End of Simulation"
   ]
  },
  {
   "cell_type": "code",
   "execution_count": 53,
   "id": "8e6c8385-398f-482c-9f8a-5f1b0ebf0177",
   "metadata": {
    "execution": {
     "iopub.execute_input": "2025-09-28T01:39:01.847443Z",
     "iopub.status.busy": "2025-09-28T01:39:01.847346Z",
     "iopub.status.idle": "2025-09-28T01:39:01.849477Z",
     "shell.execute_reply": "2025-09-28T01:39:01.849222Z",
     "shell.execute_reply.started": "2025-09-28T01:39:01.847434Z"
    },
    "tags": []
   },
   "outputs": [
    {
     "name": "stdout",
     "output_type": "stream",
     "text": [
      "Save name for run: 3VarMassUUD_cos_e8ed382a034d5eb0f2787073dba3803d0387b66f4e1f85c2feb492b768fb4711\n",
      "Path of data     :./data/3VarMassUUD_cos_e8ed382a034d5eb0f2787073dba3803d0387b66f4e1f85c2feb492b768fb4711\n",
      "Path of figures  :./figures/3VarMassUUD_cos_e8ed382a034d5eb0f2787073dba3803d0387b66f4e1f85c2feb492b768fb4711\n"
     ]
    }
   ],
   "source": [
    "print(\"Save name for run: {:}\".format(save_name))\n",
    "print(\"Path of data     :{:}\".format(os.path.join(save_dir, save_name)))\n",
    "print(\"Path of figures  :{:}\".format(figure_dir))"
   ]
  },
  {
   "cell_type": "code",
   "execution_count": null,
   "id": "873907b4-3eb5-4c95-a1a4-6fbe748e36d4",
   "metadata": {},
   "outputs": [],
   "source": []
  }
 ],
 "metadata": {
  "kernelspec": {
   "display_name": "Physics",
   "language": "python",
   "name": "physics"
  },
  "language_info": {
   "codemirror_mode": {
    "name": "ipython",
    "version": 3
   },
   "file_extension": ".py",
   "mimetype": "text/x-python",
   "name": "python",
   "nbconvert_exporter": "python",
   "pygments_lexer": "ipython3",
   "version": "3.11.11"
  }
 },
 "nbformat": 4,
 "nbformat_minor": 5
}
